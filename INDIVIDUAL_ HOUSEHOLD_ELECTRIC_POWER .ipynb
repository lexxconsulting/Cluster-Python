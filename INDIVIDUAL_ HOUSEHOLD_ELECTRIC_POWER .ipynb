{
 "cells": [
  {
   "cell_type": "markdown",
   "metadata": {},
   "source": [
    "## INDIVIDUAL HOUSEHOLD ELECTRIC POWER DATA SET"
   ]
  },
  {
   "cell_type": "markdown",
   "metadata": {},
   "source": [
    "## https://archive.ics.uci.edu/ml/datasets/individual+household+electric+power+consumption\n"
   ]
  },
  {
   "cell_type": "code",
   "execution_count": 25,
   "metadata": {},
   "outputs": [],
   "source": [
    "import pandas as pd\n",
    "import numpy as np\n",
    "import matplotlib.pyplot as plt\n",
    "from matplotlib import pylab\n",
    "from sklearn.cluster import KMeans\n",
    "from sklearn.decomposition import PCA\n",
    "from sklearn.model_selection import train_test_split\n",
    "from scipy.spatial.distance import cdist, pdist\n",
    "from sklearn.metrics import silhouette_score\n",
    "from sklearn.metrics import homogeneity_completeness_v_measure\n",
    "import warnings\n",
    "warnings.filterwarnings(\"ignore\")\n",
    "%matplotlib inline\n"
   ]
  },
  {
   "cell_type": "code",
   "execution_count": 26,
   "metadata": {},
   "outputs": [],
   "source": [
    "# Loadind the Data\n",
    "#obs: for Big Data packages, pandas could not be the best option\n",
    "#spark is more recommended for Big Data\n",
    "# we use low_memory to allow the bert performance memory\n",
    "data = pd.read_csv(\"household_power_consumption.txt\", delimiter = ';', low_memory = False)"
   ]
  },
  {
   "cell_type": "code",
   "execution_count": 27,
   "metadata": {},
   "outputs": [],
   "source": [
    "#The 'dropna' delete the NA's registers, in this case is not interesting to replace the NA's  using the avearage\n",
    "#beacause the NA's percent is about 1.25% of data and the dataset has more than 2.000.000 observations\n",
    "power_consumption = data.iloc[0:, 2:9].dropna()"
   ]
  },
  {
   "cell_type": "code",
   "execution_count": 28,
   "metadata": {},
   "outputs": [
    {
     "data": {
      "text/html": [
       "<div>\n",
       "<style scoped>\n",
       "    .dataframe tbody tr th:only-of-type {\n",
       "        vertical-align: middle;\n",
       "    }\n",
       "\n",
       "    .dataframe tbody tr th {\n",
       "        vertical-align: top;\n",
       "    }\n",
       "\n",
       "    .dataframe thead th {\n",
       "        text-align: right;\n",
       "    }\n",
       "</style>\n",
       "<table border=\"1\" class=\"dataframe\">\n",
       "  <thead>\n",
       "    <tr style=\"text-align: right;\">\n",
       "      <th></th>\n",
       "      <th>Global_active_power</th>\n",
       "      <th>Global_reactive_power</th>\n",
       "      <th>Voltage</th>\n",
       "      <th>Global_intensity</th>\n",
       "      <th>Sub_metering_1</th>\n",
       "      <th>Sub_metering_2</th>\n",
       "      <th>Sub_metering_3</th>\n",
       "    </tr>\n",
       "  </thead>\n",
       "  <tbody>\n",
       "    <tr>\n",
       "      <th>0</th>\n",
       "      <td>4.216</td>\n",
       "      <td>0.418</td>\n",
       "      <td>234.840</td>\n",
       "      <td>18.400</td>\n",
       "      <td>0.000</td>\n",
       "      <td>1.000</td>\n",
       "      <td>17.0</td>\n",
       "    </tr>\n",
       "    <tr>\n",
       "      <th>1</th>\n",
       "      <td>5.360</td>\n",
       "      <td>0.436</td>\n",
       "      <td>233.630</td>\n",
       "      <td>23.000</td>\n",
       "      <td>0.000</td>\n",
       "      <td>1.000</td>\n",
       "      <td>16.0</td>\n",
       "    </tr>\n",
       "    <tr>\n",
       "      <th>2</th>\n",
       "      <td>5.374</td>\n",
       "      <td>0.498</td>\n",
       "      <td>233.290</td>\n",
       "      <td>23.000</td>\n",
       "      <td>0.000</td>\n",
       "      <td>2.000</td>\n",
       "      <td>17.0</td>\n",
       "    </tr>\n",
       "    <tr>\n",
       "      <th>3</th>\n",
       "      <td>5.388</td>\n",
       "      <td>0.502</td>\n",
       "      <td>233.740</td>\n",
       "      <td>23.000</td>\n",
       "      <td>0.000</td>\n",
       "      <td>1.000</td>\n",
       "      <td>17.0</td>\n",
       "    </tr>\n",
       "    <tr>\n",
       "      <th>4</th>\n",
       "      <td>3.666</td>\n",
       "      <td>0.528</td>\n",
       "      <td>235.680</td>\n",
       "      <td>15.800</td>\n",
       "      <td>0.000</td>\n",
       "      <td>1.000</td>\n",
       "      <td>17.0</td>\n",
       "    </tr>\n",
       "  </tbody>\n",
       "</table>\n",
       "</div>"
      ],
      "text/plain": [
       "  Global_active_power Global_reactive_power  Voltage Global_intensity  \\\n",
       "0               4.216                 0.418  234.840           18.400   \n",
       "1               5.360                 0.436  233.630           23.000   \n",
       "2               5.374                 0.498  233.290           23.000   \n",
       "3               5.388                 0.502  233.740           23.000   \n",
       "4               3.666                 0.528  235.680           15.800   \n",
       "\n",
       "  Sub_metering_1 Sub_metering_2  Sub_metering_3  \n",
       "0          0.000          1.000            17.0  \n",
       "1          0.000          1.000            16.0  \n",
       "2          0.000          2.000            17.0  \n",
       "3          0.000          1.000            17.0  \n",
       "4          0.000          1.000            17.0  "
      ]
     },
     "execution_count": 28,
     "metadata": {},
     "output_type": "execute_result"
    }
   ],
   "source": [
    "#The prerequisite for the application of k-means is that the entire database \n",
    "#to be used is in numerical form, for this purpose follows a small sample of this verification.\n",
    "#Otherwise, we must to convert the dataset for a numeric format \n",
    "power_consumption.head()\n"
   ]
  },
  {
   "cell_type": "code",
   "execution_count": 29,
   "metadata": {},
   "outputs": [],
   "source": [
    "# get attributes and split into training and test datasets\n",
    "pc_toarray = power_consumption.values\n",
    "df_train, df_test= train_test_split(pc_toarray, train_size =.01)"
   ]
  },
  {
   "cell_type": "code",
   "execution_count": 30,
   "metadata": {},
   "outputs": [],
   "source": [
    "#Applies dimensionality reduction, we are not reducing the numbers of variables\n",
    "#we only collected all variances from the variables and input it in 2 components\n",
    "#and these components represents the same variables information \n",
    "#so now we can work with only these 2 components to make predictions\n",
    "hpc = PCA(n_components = 2).fit_transform(df_train)"
   ]
  },
  {
   "cell_type": "code",
   "execution_count": 31,
   "metadata": {},
   "outputs": [
    {
     "data": {
      "text/plain": [
       "KMeans(algorithm='auto', copy_x=True, init='k-means++', max_iter=300,\n",
       "    n_clusters=8, n_init=10, n_jobs=1, precompute_distances='auto',\n",
       "    random_state=None, tol=0.0001, verbose=0)"
      ]
     },
     "execution_count": 31,
     "metadata": {},
     "output_type": "execute_result"
    }
   ],
   "source": [
    "# Building the model\n",
    "#now we apply the fit in the object calls hpc which was transformed before, with the reduced dimiensionality \n",
    "k_means = KMeans()\n",
    "k_means.fit(hpc)\n",
    "# how we did not choose the paramenters for k, the k_means() chose n_cluster=8 as a default, how we can see bellow"
   ]
  },
  {
   "cell_type": "code",
   "execution_count": 32,
   "metadata": {},
   "outputs": [],
   "source": [
    "# Now we are going to organize the data to get minimum and maximum values and arrange shape\n",
    "# to plot it and to build the graphic\n",
    "x_min, x_max = hpc[:, 0].min() - 5, hpc[:, 0].max() - 1\n",
    "y_min, y_max = hpc[:, 1].min(), hpc[:, 1].max() + 5\n",
    "xx, yy = np.meshgrid(np.arange(x_min, x_max, .02), np.arange(y_min, y_max, .02))\n",
    "z = k_means.predict(np.c_[xx.ravel(), yy.ravel()])\n",
    "z = z.reshape(xx.shape)"
   ]
  },
  {
   "cell_type": "code",
   "execution_count": 33,
   "metadata": {},
   "outputs": [
    {
     "data": {
      "text/plain": [
       "<matplotlib.image.AxesImage at 0x20ab2c62a90>"
      ]
     },
     "execution_count": 33,
     "metadata": {},
     "output_type": "execute_result"
    },
    {
     "data": {
      "image/png": "[encoded data removed]",
      "text/plain": [
       "<Figure size 432x288 with 1 Axes>"
      ]
     },
     "metadata": {},
     "output_type": "display_data"
    }
   ],
   "source": [
    "# Area Clusters Plot\n",
    "# how k_means is working with k = 8, so the graphic show us 8 areas inside the plot \n",
    "# the plot contain 8 vohoronov celuls \n",
    "#Each color area represent a cluster area\n",
    "plt.figure(1)\n",
    "plt.clf()\n",
    "plt.imshow(z,\n",
    "          interpolation = 'nearest',\n",
    "          extent = (xx.min(), xx.max(), yy.min(), yy.max()),\n",
    "           cmap = plt.cm.Paired, \n",
    "           aspect = 'auto',\n",
    "           origin = 'lower')\n"
   ]
  },
  {
   "cell_type": "code",
   "execution_count": 34,
   "metadata": {},
   "outputs": [
    {
     "data": {
      "image/png": "[encoded data removed]",
      "text/plain": [
       "<Figure size 432x288 with 1 Axes>"
      ]
     },
     "metadata": {},
     "output_type": "display_data"
    }
   ],
   "source": [
    "# Plot of each centroids clusters\n",
    "# the centroid or geometric center of a flat figure is the arithmetic mean posição of all points in the figure\n",
    "#The red X represent the 8 centroids clusters\n",
    "# we have some distant points that could not be identified \n",
    "#it is not a clustering mistake, but show us that these points do not have similarities with the other groups\n",
    "# could be out liers, wrong data inserted to dataset\n",
    "# so in this case you should to discuss about it with the business area to be sure why\n",
    "# these points are differents\n",
    "plt.plot(hpc[:, 0], hpc[:, 1], 'k.' , markersize = 4)\n",
    "centroids = k_means.cluster_centers_\n",
    "inert = k_means.inertia_\n",
    "plt.scatter(centroids[:, 0], centroids[:, 1], marker = 'x' , s = 169, linewidths = 3, color ='r', zorder = 8)\n",
    "plt.xlim(x_min, x_max)\n",
    "plt.ylim(y_min, y_max)\n",
    "plt.xticks(())\n",
    "plt.yticks(())\n",
    "plt.show()"
   ]
  },
  {
   "cell_type": "code",
   "execution_count": 35,
   "metadata": {},
   "outputs": [],
   "source": [
    "#Determining a range for K\n",
    "# In this specific case is possible to run this process\n",
    "# In a big data case it would be hard to process it \n",
    "k_range = range(1, 14)"
   ]
  },
  {
   "cell_type": "code",
   "execution_count": 36,
   "metadata": {},
   "outputs": [],
   "source": [
    "#Appling K-Means model for each K value to see the different results\n",
    "# and identify the best k value using a list comprehension, running in one command we can run different operations\n",
    "# this code is creating a model and fitting it for each k value inside of the range\n",
    "k_means_var = [KMeans(n_clusters = k).fit(hpc) for k in k_range]"
   ]
  },
  {
   "cell_type": "code",
   "execution_count": 37,
   "metadata": {},
   "outputs": [],
   "source": [
    "# Adjusting the centroids cluster for each model\n",
    "#In this code we are using another list comprehension and for each model \n",
    "# with different k values, we are colecting the centroids\n",
    "#This is a bennefit to use code, because when you use some interface\n",
    "#Although the visual interface is easier to manipulate, you do not have differents options to improve your results as the code\n",
    "centroids = [X.cluster_centers_ for X in k_means_var]"
   ]
  },
  {
   "cell_type": "code",
   "execution_count": 38,
   "metadata": {},
   "outputs": [],
   "source": [
    "#Calculating the Euclidean distance for each value in my centroids list calclulated before\n",
    "#Euclidean distance (or metric distance ) is the distance between two points,\n",
    "#which can be proved by repeated application of the Pythagorean theorem \n",
    "k_euclid = [cdist(hpc, cent, 'euclidean') for cent in centroids]\n",
    "dist = [np.min(ke,axis=1) for ke in k_euclid]"
   ]
  },
  {
   "cell_type": "code",
   "execution_count": 39,
   "metadata": {},
   "outputs": [],
   "source": [
    "#Sum of the squares of distances inside of cluster\n",
    "wcss = [sum(d**2) for d in dist]"
   ]
  },
  {
   "cell_type": "code",
   "execution_count": 40,
   "metadata": {},
   "outputs": [],
   "source": [
    "# Total Sum of the squares\n",
    "tss = sum(pdist(hpc)**2)/hpc.shape[0]"
   ]
  },
  {
   "cell_type": "code",
   "execution_count": 42,
   "metadata": {},
   "outputs": [],
   "source": [
    "#Total Sum of the Squares - Sum of the Squares of distances inside of clusters\n",
    "bss = tss - wcss"
   ]
  },
  {
   "cell_type": "code",
   "execution_count": 43,
   "metadata": {},
   "outputs": [
    {
     "data": {
      "text/plain": [
       "Text(0.5,1,'Explicated Variance x K Value')"
      ]
     },
     "execution_count": 43,
     "metadata": {},
     "output_type": "execute_result"
    },
    {
     "data": {
      "image/png": "[encoded data removed]",
      "text/plain": [
       "<Figure size 432x288 with 1 Axes>"
      ]
     },
     "metadata": {},
     "output_type": "display_data"
    }
   ],
   "source": [
    "# Elbow Curv\n",
    "# So now we can calculate the variance resulted from  \n",
    "#Total Sum of the Squares - Sum of the Squares of distances inside of clusters\n",
    "# with this result we know that for each k value we can understand the variance value\n",
    "fig = plt.figure()\n",
    "ax = fig.add_subplot(111)\n",
    "ax.plot(k_range, bss/tss*100, 'b*-')\n",
    "ax.set_ylim((0,100))\n",
    "plt.grid(True)\n",
    "plt.xlabel('Numbers of clusters')\n",
    "plt.ylabel('Variance Percent Explicated')\n",
    "plt.title('Explicated Variance x K Value')"
   ]
  },
  {
   "cell_type": "code",
   "execution_count": 44,
   "metadata": {},
   "outputs": [
    {
     "data": {
      "text/plain": [
       "KMeans(algorithm='auto', copy_x=True, init='k-means++', max_iter=300,\n",
       "    n_clusters=7, n_init=10, n_jobs=1, precompute_distances='auto',\n",
       "    random_state=None, tol=0.0001, verbose=0)"
      ]
     },
     "execution_count": 44,
     "metadata": {},
     "output_type": "execute_result"
    }
   ],
   "source": [
    "# Creating a new model with k = 7 clusters\n",
    "k_means = KMeans(n_clusters = 7)\n",
    "k_means.fit(hpc)"
   ]
  },
  {
   "cell_type": "code",
   "execution_count": 45,
   "metadata": {},
   "outputs": [],
   "source": [
    "# Get the Minimum and Maximum Value and arrange the Shape\n",
    "x_min, x_max = hpc[:, 0].min() - 5, hpc[:, 0].max() - 1\n",
    "y_min, y_max = hpc[:, 1].min(), hpc[:, 1].max() + 5\n",
    "xx, yy = np.meshgrid(np.arange(x_min, x_max, .02), np.arange(y_min, y_max, .02))\n",
    "z = k_means.predict(np.c_[xx.ravel(), yy.ravel()])\n",
    "z = z.reshape(xx.shape)"
   ]
  },
  {
   "cell_type": "code",
   "execution_count": 46,
   "metadata": {},
   "outputs": [
    {
     "data": {
      "text/plain": [
       "<matplotlib.image.AxesImage at 0x20ab293ed68>"
      ]
     },
     "execution_count": 46,
     "metadata": {},
     "output_type": "execute_result"
    },
    {
     "data": {
      "image/png": "[encoded data removed]",
      "text/plain": [
       "<Figure size 432x288 with 1 Axes>"
      ]
     },
     "metadata": {},
     "output_type": "display_data"
    }
   ],
   "source": [
    "# Area Clusters Plot\n",
    "plt.figure(1)\n",
    "plt.clf()\n",
    "plt.imshow(z,\n",
    "          interpolation = 'nearest',\n",
    "          extent = (xx.min(), xx.max(), yy.min(), yy.max()),\n",
    "           cmap = plt.cm.Paired, \n",
    "           aspect = 'auto',\n",
    "           origin = 'lower')\n"
   ]
  },
  {
   "cell_type": "code",
   "execution_count": 47,
   "metadata": {},
   "outputs": [
    {
     "data": {
      "image/png": "[encoded data removed]",
      "text/plain": [
       "<Figure size 432x288 with 1 Axes>"
      ]
     },
     "metadata": {},
     "output_type": "display_data"
    }
   ],
   "source": [
    "# Plot of each centroids clusters\n",
    "\n",
    "plt.plot(hpc[:, 0], hpc[:, 1], 'k.' , markersize = 4)\n",
    "centroids = k_means.cluster_centers_\n",
    "inert = k_means.inertia_\n",
    "plt.scatter(centroids[:, 0], centroids[:, 1], marker = 'x' , s = 169, linewidths = 3, color ='r', zorder = 8)\n",
    "plt.xlim(x_min, x_max)\n",
    "plt.ylim(y_min, y_max)\n",
    "plt.xticks(())\n",
    "plt.yticks(())\n",
    "plt.show()\n",
    "\n",
    "#There was not much difference in outcome between the 7 and 8 cluster models. \n",
    "#Therefore, the cluster number is not always the most important in the clustering process,\n",
    "#but rather the interpretation collected from the model result. \n",
    "#Therefore, in-depth knowledge of the data and the business problem becomes important,\n",
    "#as the application of the clustering model becomes the fastest part\n",
    "#and the other parts of the process are those that require the most time\n",
    "#and attention to get the best results."
   ]
  },
  {
   "cell_type": "code",
   "execution_count": 23,
   "metadata": {},
   "outputs": [],
   "source": [
    "?silhouette_score\n",
    "\n",
    "#The best value is 1 and the worst value is -1. \n",
    "#Values close to 0 indicate overlapping clusters, meaning that they belong to more than one cluster.\n",
    "#Negative values usually indicate that a sample was assigned to the wrong cluster\n",
    "#because a different cluster is more similar."
   ]
  },
  {
   "cell_type": "code",
   "execution_count": 48,
   "metadata": {},
   "outputs": [
    {
     "data": {
      "text/plain": [
       "0.8431988595262061"
      ]
     },
     "execution_count": 48,
     "metadata": {},
     "output_type": "execute_result"
    }
   ],
   "source": [
    "# Silhouette_score\n",
    "labels = k_means.labels_\n",
    "silhouette_score(hpc, labels, metric = 'euclidean')"
   ]
  },
  {
   "cell_type": "markdown",
   "metadata": {},
   "source": [
    "# END"
   ]
  }
 ],
 "metadata": {
  "kernelspec": {
   "display_name": "Python 3",
   "language": "python",
   "name": "python3"
  },
  "language_info": {
   "codemirror_mode": {
    "name": "ipython",
    "version": 3
   },
   "file_extension": ".py",
   "mimetype": "text/x-python",
   "name": "python",
   "nbconvert_exporter": "python",
   "pygments_lexer": "ipython3",
   "version": "3.6.5"
  }
 },
 "nbformat": 4,
 "nbformat_minor": 2
}
